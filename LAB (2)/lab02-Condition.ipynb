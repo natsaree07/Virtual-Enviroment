{
 "cells": [
  {
   "cell_type": "markdown",
   "id": "0acb5003-c27d-45bb-9085-77e02edad6ea",
   "metadata": {},
   "source": [
    "# Logical conditions from mathematics"
   ]
  },
  {
   "cell_type": "markdown",
   "id": "dff04929-94d9-4bb1-ab01-4cd4ebc2da46",
   "metadata": {},
   "source": [
    "## If ... Else\n",
    "<img src=\"http://www.flowgorithm.org/images/example-vote.png\" width=\"300\" height=\"400\">\n",
    "<p>http://www.flowgorithm.org/documentation/language/if.html</p>\n"
   ]
  },
  {
   "cell_type": "code",
   "execution_count": 9,
   "id": "08049abe-bc46-4e16-8998-e07a9f163946",
   "metadata": {},
   "outputs": [
    {
     "name": "stdout",
     "output_type": "stream",
     "text": [
      "Num is greater 50\n"
     ]
    }
   ],
   "source": [
    "num = 55\n",
    "if num >= 50:\n",
    "  print(\"Num is greater 50\")"
   ]
  },
  {
   "cell_type": "code",
   "execution_count": 10,
   "id": "ccdd38cf-d52f-4522-acd1-2653b74fb908",
   "metadata": {},
   "outputs": [
    {
     "name": "stdout",
     "output_type": "stream",
     "text": [
      "Num is greater 50\n"
     ]
    }
   ],
   "source": [
    "num = 55\n",
    "b = 33\n",
    "if num >= 50:\n",
    "  print(\"Num is greater 50\")\n",
    "elif a == b:\n",
    "  print(\"Num is not greater 50\")"
   ]
  },
  {
   "cell_type": "code",
   "execution_count": 3,
   "id": "115ffe73-93a3-4813-9b69-7ee4d311ecdd",
   "metadata": {},
   "outputs": [
    {
     "name": "stdout",
     "output_type": "stream",
     "text": [
      "a is greater than b\n"
     ]
    }
   ],
   "source": [
    "a = 200\n",
    "b = 33\n",
    "if b > a:\n",
    "  print(\"b is greater than a\")\n",
    "elif a == b:\n",
    "  print(\"a and b are equal\")\n",
    "else:\n",
    "  print(\"a is greater than b\")"
   ]
  },
  {
   "cell_type": "code",
   "execution_count": 11,
   "id": "87e68211-db4f-49c3-b26e-b371b4cc0692",
   "metadata": {},
   "outputs": [
    {
     "name": "stdout",
     "output_type": "stream",
     "text": [
      "At least one of the conditions is True\n"
     ]
    }
   ],
   "source": [
    "a = 200\n",
    "b = 33\n",
    "c = 500\n",
    "if a > b or a > c:\n",
    "  print(\"At least one of the conditions is True\")"
   ]
  },
  {
   "cell_type": "code",
   "execution_count": 12,
   "id": "8bf68b83-3481-40a9-9519-084bf0942b69",
   "metadata": {},
   "outputs": [
    {
     "name": "stdout",
     "output_type": "stream",
     "text": [
      "a is NOT greater than b\n"
     ]
    }
   ],
   "source": [
    "a = 33\n",
    "b = 200\n",
    "if not a > b:\n",
    "  print(\"a is NOT greater than b\")"
   ]
  },
  {
   "cell_type": "code",
   "execution_count": 13,
   "id": "c330e6ee-d367-471c-802f-d22d2f0c4895",
   "metadata": {},
   "outputs": [],
   "source": [
    "a = 33\n",
    "b = 200\n",
    "if b > a:\n",
    "  pass"
   ]
  },
  {
   "cell_type": "markdown",
   "id": "36893f77-98a1-4d6d-8d15-75fb7155662f",
   "metadata": {},
   "source": [
    "### Short Hand If"
   ]
  },
  {
   "cell_type": "code",
   "execution_count": 4,
   "id": "80330e43-5b7d-4fd2-85a7-1934271343fc",
   "metadata": {},
   "outputs": [
    {
     "name": "stdout",
     "output_type": "stream",
     "text": [
      "a is greater than b\n"
     ]
    }
   ],
   "source": [
    "if a > b: print(\"a is greater than b\")"
   ]
  },
  {
   "cell_type": "code",
   "execution_count": 5,
   "id": "6ed8874d-dbbc-44ec-bd73-ab8275d05b18",
   "metadata": {},
   "outputs": [
    {
     "name": "stdout",
     "output_type": "stream",
     "text": [
      "B\n"
     ]
    }
   ],
   "source": [
    "a = 2\n",
    "b = 330\n",
    "print(\"A\") if a > b else print(\"B\")"
   ]
  },
  {
   "cell_type": "markdown",
   "id": "b31ec59f-bf9a-4eb6-b5d1-b3db105a5fc1",
   "metadata": {},
   "source": [
    "#  While Loops\n",
    "<img src=\"http://www.flowgorithm.org/images/example-do.png\" width=\"300\" height=\"400\">\n",
    "<p>http://www.flowgorithm.org/documentation/language/do.html</p>"
   ]
  },
  {
   "cell_type": "code",
   "execution_count": 15,
   "id": "2507caf4-ffcd-4093-a210-977c1b7c50cb",
   "metadata": {},
   "outputs": [
    {
     "name": "stdout",
     "output_type": "stream",
     "text": [
      "1\n",
      "2\n",
      "3\n",
      "4\n",
      "5\n"
     ]
    }
   ],
   "source": [
    "i = 1\n",
    "while i < 6:\n",
    "  print(i)\n",
    "  i += 1"
   ]
  },
  {
   "cell_type": "code",
   "execution_count": 16,
   "id": "97840bed-6f3d-4814-a31a-38dfb36ea4c5",
   "metadata": {},
   "outputs": [
    {
     "name": "stdout",
     "output_type": "stream",
     "text": [
      "1\n",
      "2\n",
      "3\n"
     ]
    }
   ],
   "source": [
    "i = 1\n",
    "while i < 6:\n",
    "  print(i)\n",
    "  if i == 3:\n",
    "    break\n",
    "  i += 1"
   ]
  },
  {
   "cell_type": "code",
   "execution_count": 17,
   "id": "adfeb666-1940-4db3-b498-28bd9044c1b0",
   "metadata": {},
   "outputs": [
    {
     "name": "stdout",
     "output_type": "stream",
     "text": [
      "1\n",
      "2\n",
      "4\n",
      "5\n",
      "6\n"
     ]
    }
   ],
   "source": [
    "i = 0\n",
    "while i < 6:\n",
    "  i += 1\n",
    "  if i == 3:\n",
    "    continue\n",
    "  print(i)"
   ]
  },
  {
   "cell_type": "code",
   "execution_count": 18,
   "id": "7c5c373e-db84-48e9-997d-bcd5d7a8a405",
   "metadata": {},
   "outputs": [
    {
     "name": "stdout",
     "output_type": "stream",
     "text": [
      "1\n",
      "2\n",
      "3\n",
      "4\n",
      "5\n",
      "i is no longer less than 6\n"
     ]
    }
   ],
   "source": [
    "i = 1\n",
    "while i < 6:\n",
    "  print(i)\n",
    "  i += 1\n",
    "else:\n",
    "  print(\"i is no longer less than 6\")"
   ]
  },
  {
   "cell_type": "markdown",
   "id": "cc9f150c-341f-476f-89a0-5d0b0d13a783",
   "metadata": {},
   "source": [
    "# For Loops\n",
    "<img src=\"http://www.flowgorithm.org/images/example-for.png\" width=\"300\" height=\"400\">\n",
    "<p>http://www.flowgorithm.org/images/example-for.png</p>"
   ]
  },
  {
   "cell_type": "code",
   "execution_count": 20,
   "id": "9c65683f-a444-4660-9e45-247a41b32591",
   "metadata": {},
   "outputs": [
    {
     "name": "stdout",
     "output_type": "stream",
     "text": [
      "apple\n",
      "banana\n",
      "cherry\n"
     ]
    }
   ],
   "source": [
    "fruits = [\"apple\", \"banana\", \"cherry\"]\n",
    "for x in fruits:\n",
    "  print(x)"
   ]
  },
  {
   "cell_type": "code",
   "execution_count": 21,
   "id": "8a8bfea4-3eb3-4ddf-b0ce-6c70167d4f0a",
   "metadata": {},
   "outputs": [
    {
     "name": "stdout",
     "output_type": "stream",
     "text": [
      "b\n",
      "a\n",
      "n\n",
      "a\n",
      "n\n",
      "a\n"
     ]
    }
   ],
   "source": [
    "for x in \"banana\":\n",
    "  print(x)"
   ]
  },
  {
   "cell_type": "code",
   "execution_count": 22,
   "id": "01afe229-fc22-4a69-9196-408b6df523bc",
   "metadata": {},
   "outputs": [
    {
     "name": "stdout",
     "output_type": "stream",
     "text": [
      "apple\n",
      "banana\n"
     ]
    }
   ],
   "source": [
    "fruits = [\"apple\", \"banana\", \"cherry\"]\n",
    "for x in fruits:\n",
    "  print(x)\n",
    "  if x == \"banana\":\n",
    "    break"
   ]
  },
  {
   "cell_type": "code",
   "execution_count": 23,
   "id": "8272f85e-7b18-4b44-b9d2-1f2018d80b60",
   "metadata": {},
   "outputs": [
    {
     "name": "stdout",
     "output_type": "stream",
     "text": [
      "0\n",
      "1\n",
      "2\n",
      "3\n",
      "4\n",
      "5\n"
     ]
    }
   ],
   "source": [
    "for x in range(6):\n",
    "  print(x)"
   ]
  },
  {
   "cell_type": "code",
   "execution_count": null,
   "id": "c3b8a50f-11b1-44de-a759-10271557b54c",
   "metadata": {},
   "outputs": [],
   "source": []
  }
 ],
 "metadata": {
  "kernelspec": {
   "display_name": "Python 3 (ipykernel)",
   "language": "python",
   "name": "python3"
  },
  "language_info": {
   "codemirror_mode": {
    "name": "ipython",
    "version": 3
   },
   "file_extension": ".py",
   "mimetype": "text/x-python",
   "name": "python",
   "nbconvert_exporter": "python",
   "pygments_lexer": "ipython3",
   "version": "3.12.4"
  }
 },
 "nbformat": 4,
 "nbformat_minor": 5
}
